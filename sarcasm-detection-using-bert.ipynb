{
 "cells": [
  {
   "cell_type": "markdown",
   "metadata": {
    "papermill": {
     "duration": 0.017091,
     "end_time": "2021-05-21T12:14:57.007939",
     "exception": false,
     "start_time": "2021-05-21T12:14:56.990848",
     "status": "completed"
    },
    "tags": []
   },
   "source": [
    "# Sarcasm Detection using the Pre-Trained BERT model from Transformers "
   ]
  },
  {
   "cell_type": "code",
   "execution_count": 1,
   "metadata": {
    "_cell_guid": "b1076dfc-b9ad-4769-8c92-a6c4dae69d19",
    "_uuid": "8f2839f25d086af736a60e9eeb907d3b93b6e0e5",
    "execution": {
     "iopub.execute_input": "2021-05-21T12:14:57.045933Z",
     "iopub.status.busy": "2021-05-21T12:14:57.045228Z",
     "iopub.status.idle": "2021-05-21T12:14:57.061399Z",
     "shell.execute_reply": "2021-05-21T12:14:57.061962Z",
     "shell.execute_reply.started": "2021-05-21T11:41:29.116184Z"
    },
    "papermill": {
     "duration": 0.038485,
     "end_time": "2021-05-21T12:14:57.062112",
     "exception": false,
     "start_time": "2021-05-21T12:14:57.023627",
     "status": "completed"
    },
    "tags": []
   },
   "outputs": [
    {
     "name": "stdout",
     "output_type": "stream",
     "text": [
      "/kaggle/input/news-headlines-dataset-for-sarcasm-detection/Sarcasm_Headlines_Dataset_v2.json\n",
      "/kaggle/input/news-headlines-dataset-for-sarcasm-detection/Sarcasm_Headlines_Dataset.json\n"
     ]
    }
   ],
   "source": [
    "import numpy as np \n",
    "import pandas as pd \n",
    "import os\n",
    "for dirname, _, filenames in os.walk('/kaggle/input'):\n",
    "    for filename in filenames:\n",
    "        print(os.path.join(dirname, filename))\n"
   ]
  },
  {
   "cell_type": "code",
   "execution_count": 2,
   "metadata": {
    "execution": {
     "iopub.execute_input": "2021-05-21T12:14:57.101035Z",
     "iopub.status.busy": "2021-05-21T12:14:57.100084Z",
     "iopub.status.idle": "2021-05-21T12:15:05.565007Z",
     "shell.execute_reply": "2021-05-21T12:15:05.564193Z",
     "shell.execute_reply.started": "2021-05-21T11:41:30.411519Z"
    },
    "papermill": {
     "duration": 8.485801,
     "end_time": "2021-05-21T12:15:05.565195",
     "exception": false,
     "start_time": "2021-05-21T12:14:57.079394",
     "status": "completed"
    },
    "tags": []
   },
   "outputs": [
    {
     "name": "stderr",
     "output_type": "stream",
     "text": [
      "\u001b[34m\u001b[1mwandb\u001b[0m: \u001b[33mWARNING\u001b[0m W&B installed but not logged in.  Run `wandb login` or set the WANDB_API_KEY env variable.\n"
     ]
    }
   ],
   "source": [
    "import tensorflow as tf\n",
    "import matplotlib.pyplot as plt\n",
    "from transformers import TFBertModel, BertTokenizer\n",
    "from sklearn.model_selection import train_test_split\n"
   ]
  },
  {
   "cell_type": "code",
   "execution_count": 3,
   "metadata": {
    "_cell_guid": "79c7e3d0-c299-4dcb-8224-4455121ee9b0",
    "_uuid": "d629ff2d2480ee46fbb7e2d37f6b5fab8052498a",
    "execution": {
     "iopub.execute_input": "2021-05-21T12:15:05.603880Z",
     "iopub.status.busy": "2021-05-21T12:15:05.603213Z",
     "iopub.status.idle": "2021-05-21T12:15:06.270715Z",
     "shell.execute_reply": "2021-05-21T12:15:06.271278Z",
     "shell.execute_reply.started": "2021-05-21T11:41:31.805146Z"
    },
    "papermill": {
     "duration": 0.68947,
     "end_time": "2021-05-21T12:15:06.271437",
     "exception": false,
     "start_time": "2021-05-21T12:15:05.581967",
     "status": "completed"
    },
    "tags": []
   },
   "outputs": [
    {
     "data": {
      "text/html": [
       "<div>\n",
       "<style scoped>\n",
       "    .dataframe tbody tr th:only-of-type {\n",
       "        vertical-align: middle;\n",
       "    }\n",
       "\n",
       "    .dataframe tbody tr th {\n",
       "        vertical-align: top;\n",
       "    }\n",
       "\n",
       "    .dataframe thead th {\n",
       "        text-align: right;\n",
       "    }\n",
       "</style>\n",
       "<table border=\"1\" class=\"dataframe\">\n",
       "  <thead>\n",
       "    <tr style=\"text-align: right;\">\n",
       "      <th></th>\n",
       "      <th>is_sarcastic</th>\n",
       "      <th>headline</th>\n",
       "      <th>article_link</th>\n",
       "    </tr>\n",
       "  </thead>\n",
       "  <tbody>\n",
       "    <tr>\n",
       "      <th>0</th>\n",
       "      <td>1</td>\n",
       "      <td>thirtysomething scientists unveil doomsday clo...</td>\n",
       "      <td>https://www.theonion.com/thirtysomething-scien...</td>\n",
       "    </tr>\n",
       "    <tr>\n",
       "      <th>1</th>\n",
       "      <td>0</td>\n",
       "      <td>dem rep. totally nails why congress is falling...</td>\n",
       "      <td>https://www.huffingtonpost.com/entry/donna-edw...</td>\n",
       "    </tr>\n",
       "    <tr>\n",
       "      <th>2</th>\n",
       "      <td>0</td>\n",
       "      <td>eat your veggies: 9 deliciously different recipes</td>\n",
       "      <td>https://www.huffingtonpost.com/entry/eat-your-...</td>\n",
       "    </tr>\n",
       "    <tr>\n",
       "      <th>3</th>\n",
       "      <td>1</td>\n",
       "      <td>inclement weather prevents liar from getting t...</td>\n",
       "      <td>https://local.theonion.com/inclement-weather-p...</td>\n",
       "    </tr>\n",
       "    <tr>\n",
       "      <th>4</th>\n",
       "      <td>1</td>\n",
       "      <td>mother comes pretty close to using word 'strea...</td>\n",
       "      <td>https://www.theonion.com/mother-comes-pretty-c...</td>\n",
       "    </tr>\n",
       "  </tbody>\n",
       "</table>\n",
       "</div>"
      ],
      "text/plain": [
       "   is_sarcastic                                           headline  \\\n",
       "0             1  thirtysomething scientists unveil doomsday clo...   \n",
       "1             0  dem rep. totally nails why congress is falling...   \n",
       "2             0  eat your veggies: 9 deliciously different recipes   \n",
       "3             1  inclement weather prevents liar from getting t...   \n",
       "4             1  mother comes pretty close to using word 'strea...   \n",
       "\n",
       "                                        article_link  \n",
       "0  https://www.theonion.com/thirtysomething-scien...  \n",
       "1  https://www.huffingtonpost.com/entry/donna-edw...  \n",
       "2  https://www.huffingtonpost.com/entry/eat-your-...  \n",
       "3  https://local.theonion.com/inclement-weather-p...  \n",
       "4  https://www.theonion.com/mother-comes-pretty-c...  "
      ]
     },
     "execution_count": 3,
     "metadata": {},
     "output_type": "execute_result"
    }
   ],
   "source": [
    "data = pd.read_json(\"../input/news-headlines-dataset-for-sarcasm-detection/Sarcasm_Headlines_Dataset_v2.json\", lines=True)\n",
    "labels = data.is_sarcastic.values\n",
    "sentences = data.headline.values\n",
    "data.head()"
   ]
  },
  {
   "cell_type": "markdown",
   "metadata": {
    "papermill": {
     "duration": 0.018198,
     "end_time": "2021-05-21T12:15:06.307597",
     "exception": false,
     "start_time": "2021-05-21T12:15:06.289399",
     "status": "completed"
    },
    "tags": []
   },
   "source": [
    "**Tokenizing all the sentences using pre-trained BERT model from Tranformers**"
   ]
  },
  {
   "cell_type": "code",
   "execution_count": 4,
   "metadata": {
    "execution": {
     "iopub.execute_input": "2021-05-21T12:15:06.352061Z",
     "iopub.status.busy": "2021-05-21T12:15:06.350861Z",
     "iopub.status.idle": "2021-05-21T12:15:22.833270Z",
     "shell.execute_reply": "2021-05-21T12:15:22.832459Z",
     "shell.execute_reply.started": "2021-05-21T11:41:36.950080Z"
    },
    "papermill": {
     "duration": 16.508911,
     "end_time": "2021-05-21T12:15:22.833399",
     "exception": false,
     "start_time": "2021-05-21T12:15:06.324488",
     "status": "completed"
    },
    "tags": []
   },
   "outputs": [
    {
     "data": {
      "application/vnd.jupyter.widget-view+json": {
       "model_id": "3edf8b8c362e4c55a4ac040548f50036",
       "version_major": 2,
       "version_minor": 0
      },
      "text/plain": [
       "HBox(children=(FloatProgress(value=0.0, description='Downloading', max=231508.0, style=ProgressStyle(descripti…"
      ]
     },
     "metadata": {},
     "output_type": "display_data"
    },
    {
     "name": "stdout",
     "output_type": "stream",
     "text": [
      "\n"
     ]
    }
   ],
   "source": [
    "PRE_TRAINED_MODEL_NAME = 'bert-base-uncased'\n",
    "tokenizer = BertTokenizer.from_pretrained(PRE_TRAINED_MODEL_NAME,do_lower_case = True)\n",
    "\n",
    "def encoder(sentences):\n",
    "  ids = []\n",
    "  for sentence in sentences:\n",
    "    encoding = tokenizer.encode_plus(\n",
    "    sentence,\n",
    "    max_length=16,\n",
    "    truncation = True,\n",
    "    add_special_tokens=True,\n",
    "    return_token_type_ids=False,\n",
    "    pad_to_max_length=True,\n",
    "    return_attention_mask=False)\n",
    "    ids.append(encoding['input_ids'])\n",
    "  return ids\n",
    "\n",
    "#Train test split\n",
    "train_sents,test_sents, train_labels, test_labels  = train_test_split(sentences,labels,test_size=0.20, random_state=3)\n",
    "dev_sents,test_sents, dev_labels, test_labels  = train_test_split(test_sents,test_labels,test_size=0.50, random_state=3)\n",
    "\n",
    "train_ids = encoder(train_sents)\n",
    "dev_ids = encoder(dev_sents)\n",
    "test_ids = encoder(test_sents) "
   ]
  },
  {
   "cell_type": "markdown",
   "metadata": {
    "papermill": {
     "duration": 0.017623,
     "end_time": "2021-05-21T12:15:22.869351",
     "exception": false,
     "start_time": "2021-05-21T12:15:22.851728",
     "status": "completed"
    },
    "tags": []
   },
   "source": [
    "Converting arrays to tensors"
   ]
  },
  {
   "cell_type": "code",
   "execution_count": 5,
   "metadata": {
    "execution": {
     "iopub.execute_input": "2021-05-21T12:15:23.013961Z",
     "iopub.status.busy": "2021-05-21T12:15:23.003763Z",
     "iopub.status.idle": "2021-05-21T12:15:28.831598Z",
     "shell.execute_reply": "2021-05-21T12:15:28.830947Z",
     "shell.execute_reply.started": "2021-05-21T11:41:48.987838Z"
    },
    "papermill": {
     "duration": 5.944554,
     "end_time": "2021-05-21T12:15:28.831736",
     "exception": false,
     "start_time": "2021-05-21T12:15:22.887182",
     "status": "completed"
    },
    "tags": []
   },
   "outputs": [],
   "source": [
    "train_ids = tf.convert_to_tensor(train_ids)\n",
    "train_labels = tf.convert_to_tensor(train_labels)\n",
    "\n",
    "dev_ids = tf.convert_to_tensor(dev_ids)\n",
    "dev_labels = tf.convert_to_tensor(dev_labels)\n",
    "\n",
    "test_ids = tf.convert_to_tensor(test_ids)\n",
    "test_labels = tf.convert_to_tensor(test_labels)\n"
   ]
  },
  {
   "cell_type": "markdown",
   "metadata": {
    "papermill": {
     "duration": 0.017499,
     "end_time": "2021-05-21T12:15:28.867910",
     "exception": false,
     "start_time": "2021-05-21T12:15:28.850411",
     "status": "completed"
    },
    "tags": []
   },
   "source": [
    "Building Model from transformers using pre-trained bert-base-uncased (12-layer, 768-hidden, 12-heads, 110M parameters.)"
   ]
  },
  {
   "cell_type": "code",
   "execution_count": 6,
   "metadata": {
    "execution": {
     "iopub.execute_input": "2021-05-21T12:15:28.913443Z",
     "iopub.status.busy": "2021-05-21T12:15:28.911458Z",
     "iopub.status.idle": "2021-05-21T12:15:57.179873Z",
     "shell.execute_reply": "2021-05-21T12:15:57.179266Z",
     "shell.execute_reply.started": "2021-05-21T11:41:49.158335Z"
    },
    "papermill": {
     "duration": 28.294273,
     "end_time": "2021-05-21T12:15:57.180014",
     "exception": false,
     "start_time": "2021-05-21T12:15:28.885741",
     "status": "completed"
    },
    "tags": []
   },
   "outputs": [
    {
     "data": {
      "application/vnd.jupyter.widget-view+json": {
       "model_id": "d482eeb389664831b563f1800ceffe39",
       "version_major": 2,
       "version_minor": 0
      },
      "text/plain": [
       "HBox(children=(FloatProgress(value=0.0, description='Downloading', max=433.0, style=ProgressStyle(description_…"
      ]
     },
     "metadata": {},
     "output_type": "display_data"
    },
    {
     "name": "stdout",
     "output_type": "stream",
     "text": [
      "\n"
     ]
    },
    {
     "data": {
      "application/vnd.jupyter.widget-view+json": {
       "model_id": "f36bf8f6505344dc98e1b22211b63083",
       "version_major": 2,
       "version_minor": 0
      },
      "text/plain": [
       "HBox(children=(FloatProgress(value=0.0, description='Downloading', max=536063208.0, style=ProgressStyle(descri…"
      ]
     },
     "metadata": {},
     "output_type": "display_data"
    },
    {
     "name": "stdout",
     "output_type": "stream",
     "text": [
      "\n"
     ]
    }
   ],
   "source": [
    "bert_encoder = TFBertModel.from_pretrained('bert-base-uncased')\n",
    "input_word_ids = tf.keras.Input(shape=(16,), dtype=tf.int32, name=\"input_word_ids\")  \n",
    "embedding = bert_encoder([input_word_ids])\n",
    "dense = tf.keras.layers.Lambda(lambda seq: seq[:, 0, :])(embedding[0])\n",
    "#dense = tf.keras.layers.Dense(128, activation='relu')(dense)\n",
    "dense = tf.keras.layers.Dense(256, activation='relu')(dense)\n",
    "dense = tf.keras.layers.Dense(128, activation='tanh')(dense)\n",
    "dense = tf.keras.layers.Dropout(0.2)(dense)\n",
    "\n",
    "output = tf.keras.layers.Dense(1, activation='sigmoid')(dense)    \n",
    "\n",
    "\n",
    "model = tf.keras.Model(inputs=[input_word_ids], outputs=output)  \n"
   ]
  },
  {
   "cell_type": "code",
   "execution_count": 7,
   "metadata": {
    "execution": {
     "iopub.execute_input": "2021-05-21T12:15:57.249708Z",
     "iopub.status.busy": "2021-05-21T12:15:57.248154Z",
     "iopub.status.idle": "2021-05-21T12:15:57.294952Z",
     "shell.execute_reply": "2021-05-21T12:15:57.295918Z",
     "shell.execute_reply.started": "2021-05-21T11:41:53.066881Z"
    },
    "papermill": {
     "duration": 0.093872,
     "end_time": "2021-05-21T12:15:57.296199",
     "exception": false,
     "start_time": "2021-05-21T12:15:57.202327",
     "status": "completed"
    },
    "tags": []
   },
   "outputs": [
    {
     "name": "stdout",
     "output_type": "stream",
     "text": [
      "Model: \"functional_1\"\n",
      "_________________________________________________________________\n",
      "Layer (type)                 Output Shape              Param #   \n",
      "=================================================================\n",
      "input_word_ids (InputLayer)  [(None, 16)]              0         \n",
      "_________________________________________________________________\n",
      "tf_bert_model (TFBertModel)  ((None, 16, 768), (None,  109482240 \n",
      "_________________________________________________________________\n",
      "lambda (Lambda)              (None, 768)               0         \n",
      "_________________________________________________________________\n",
      "dense (Dense)                (None, 256)               196864    \n",
      "_________________________________________________________________\n",
      "dense_1 (Dense)              (None, 128)               32896     \n",
      "_________________________________________________________________\n",
      "dropout_37 (Dropout)         (None, 128)               0         \n",
      "_________________________________________________________________\n",
      "dense_2 (Dense)              (None, 1)                 129       \n",
      "=================================================================\n",
      "Total params: 109,712,129\n",
      "Trainable params: 109,712,129\n",
      "Non-trainable params: 0\n",
      "_________________________________________________________________\n"
     ]
    }
   ],
   "source": [
    "model.compile(tf.keras.optimizers.Adam(1e-5), loss='binary_crossentropy', metrics=['accuracy'])\n",
    "model.summary()\n",
    "\n"
   ]
  },
  {
   "cell_type": "code",
   "execution_count": 8,
   "metadata": {
    "execution": {
     "iopub.execute_input": "2021-05-21T12:15:57.345640Z",
     "iopub.status.busy": "2021-05-21T12:15:57.344715Z",
     "iopub.status.idle": "2021-05-21T12:31:01.173260Z",
     "shell.execute_reply": "2021-05-21T12:31:01.174698Z",
     "shell.execute_reply.started": "2021-05-21T11:41:53.122297Z"
    },
    "papermill": {
     "duration": 903.856989,
     "end_time": "2021-05-21T12:31:01.174966",
     "exception": false,
     "start_time": "2021-05-21T12:15:57.317977",
     "status": "completed"
    },
    "tags": []
   },
   "outputs": [
    {
     "name": "stdout",
     "output_type": "stream",
     "text": [
      "Epoch 1/15\n",
      "358/358 [==============================] - 62s 173ms/step - loss: 0.3313 - accuracy: 0.8569 - val_loss: 0.2938 - val_accuracy: 0.8826\n",
      "Epoch 2/15\n",
      "358/358 [==============================] - 58s 163ms/step - loss: 0.1950 - accuracy: 0.9246 - val_loss: 0.2358 - val_accuracy: 0.9067\n",
      "Epoch 3/15\n",
      "358/358 [==============================] - 58s 163ms/step - loss: 0.1244 - accuracy: 0.9523 - val_loss: 0.2472 - val_accuracy: 0.9102\n",
      "Epoch 4/15\n",
      "358/358 [==============================] - 58s 163ms/step - loss: 0.0773 - accuracy: 0.9716 - val_loss: 0.2646 - val_accuracy: 0.9151\n",
      "Epoch 5/15\n",
      "358/358 [==============================] - 59s 164ms/step - loss: 0.0500 - accuracy: 0.9837 - val_loss: 0.3116 - val_accuracy: 0.9109\n",
      "Epoch 6/15\n",
      "358/358 [==============================] - 58s 163ms/step - loss: 0.0298 - accuracy: 0.9901 - val_loss: 0.3614 - val_accuracy: 0.9154\n",
      "Epoch 7/15\n",
      "358/358 [==============================] - 58s 163ms/step - loss: 0.0228 - accuracy: 0.9927 - val_loss: 0.3552 - val_accuracy: 0.9106\n",
      "Epoch 8/15\n",
      "358/358 [==============================] - 58s 163ms/step - loss: 0.0165 - accuracy: 0.9946 - val_loss: 0.3864 - val_accuracy: 0.9182\n",
      "Epoch 9/15\n",
      "358/358 [==============================] - 59s 164ms/step - loss: 0.0119 - accuracy: 0.9961 - val_loss: 0.4346 - val_accuracy: 0.9133\n",
      "Epoch 10/15\n",
      "358/358 [==============================] - 58s 163ms/step - loss: 0.0122 - accuracy: 0.9956 - val_loss: 0.3899 - val_accuracy: 0.9165\n",
      "Epoch 11/15\n",
      "358/358 [==============================] - 59s 163ms/step - loss: 0.0112 - accuracy: 0.9961 - val_loss: 0.4039 - val_accuracy: 0.9168\n",
      "Epoch 12/15\n",
      "358/358 [==============================] - 59s 164ms/step - loss: 0.0097 - accuracy: 0.9968 - val_loss: 0.4163 - val_accuracy: 0.9182\n",
      "Epoch 13/15\n",
      "358/358 [==============================] - 59s 164ms/step - loss: 0.0094 - accuracy: 0.9971 - val_loss: 0.4464 - val_accuracy: 0.9095\n",
      "Epoch 14/15\n",
      "358/358 [==============================] - 59s 164ms/step - loss: 0.0078 - accuracy: 0.9976 - val_loss: 0.4791 - val_accuracy: 0.9088\n",
      "Epoch 15/15\n",
      "358/358 [==============================] - 59s 165ms/step - loss: 0.0066 - accuracy: 0.9976 - val_loss: 0.4385 - val_accuracy: 0.9189\n"
     ]
    }
   ],
   "source": [
    "history = model.fit(x = train_ids, y = train_labels, epochs = 15, verbose = 1, batch_size = 64, validation_data = (dev_ids, dev_labels))"
   ]
  },
  {
   "cell_type": "code",
   "execution_count": 9,
   "metadata": {
    "execution": {
     "iopub.execute_input": "2021-05-21T12:31:05.482761Z",
     "iopub.status.busy": "2021-05-21T12:31:05.482010Z",
     "iopub.status.idle": "2021-05-21T12:31:06.245598Z",
     "shell.execute_reply": "2021-05-21T12:31:06.244269Z",
     "shell.execute_reply.started": "2021-05-21T11:55:57.906817Z"
    },
    "papermill": {
     "duration": 2.687893,
     "end_time": "2021-05-21T12:31:06.245748",
     "exception": false,
     "start_time": "2021-05-21T12:31:03.557855",
     "status": "completed"
    },
    "tags": []
   },
   "outputs": [
    {
     "data": {
      "image/png": "[encoded data removed]",
      "text/plain": [
       "<Figure size 1250x750 with 1 Axes>"
      ]
     },
     "metadata": {
      "needs_background": "light"
     },
     "output_type": "display_data"
    },
    {
     "data": {
      "image/png": "[encoded data removed]",
      "text/plain": [
       "<Figure size 1250x750 with 1 Axes>"
      ]
     },
     "metadata": {
      "needs_background": "light"
     },
     "output_type": "display_data"
    }
   ],
   "source": [
    "#from matplotlib.pyplot import figure\n",
    "\n",
    "\n",
    "def plot_graphs(history, string):\n",
    "  plt.figure(figsize=(5, 3), dpi=250)\n",
    "    \n",
    "  plt.plot(history.history[string])\n",
    "  plt.plot(history.history['val_'+string])\n",
    "  plt.xlabel(\"Epochs\")\n",
    "  plt.ylabel(string)\n",
    "  plt.legend(['train_'+string, 'val_'+string])\n",
    "  \n",
    "  plt.savefig(string+'.png')\n",
    "  plt.show()\n",
    "  \n",
    "\n",
    "plot_graphs(history, 'accuracy')\n",
    "plot_graphs(history, 'loss')\n"
   ]
  },
  {
   "cell_type": "code",
   "execution_count": 10,
   "metadata": {
    "execution": {
     "iopub.execute_input": "2021-05-21T12:31:10.404085Z",
     "iopub.status.busy": "2021-05-21T12:31:10.402997Z",
     "iopub.status.idle": "2021-05-21T12:31:17.307453Z",
     "shell.execute_reply": "2021-05-21T12:31:17.308264Z",
     "shell.execute_reply.started": "2021-05-21T11:56:13.408475Z"
    },
    "papermill": {
     "duration": 9.157229,
     "end_time": "2021-05-21T12:31:17.308503",
     "exception": false,
     "start_time": "2021-05-21T12:31:08.151274",
     "status": "completed"
    },
    "tags": []
   },
   "outputs": [
    {
     "name": "stdout",
     "output_type": "stream",
     "text": [
      "              precision    recall  f1-score   support\n",
      "\n",
      "           0       0.91      0.95      0.93      1464\n",
      "           1       0.95      0.90      0.92      1398\n",
      "\n",
      "    accuracy                           0.93      2862\n",
      "   macro avg       0.93      0.92      0.93      2862\n",
      "weighted avg       0.93      0.93      0.93      2862\n",
      "\n"
     ]
    }
   ],
   "source": [
    "pred_=model.predict(test_ids)\n",
    "\n",
    "from sklearn.metrics import classification_report\n",
    "pred_thrs=[]\n",
    "for i in pred_:\n",
    "    if i<0.5:\n",
    "        pred_thrs.append(0)\n",
    "    else:\n",
    "        pred_thrs.append(1)\n",
    "print(classification_report(test_labels, pred_thrs))"
   ]
  },
  {
   "cell_type": "code",
   "execution_count": 11,
   "metadata": {
    "execution": {
     "iopub.execute_input": "2021-05-21T12:31:21.520041Z",
     "iopub.status.busy": "2021-05-21T12:31:21.519379Z",
     "iopub.status.idle": "2021-05-21T12:31:21.526077Z",
     "shell.execute_reply": "2021-05-21T12:31:21.526633Z",
     "shell.execute_reply.started": "2021-05-21T09:33:03.489312Z"
    },
    "papermill": {
     "duration": 2.264178,
     "end_time": "2021-05-21T12:31:21.526772",
     "exception": false,
     "start_time": "2021-05-21T12:31:19.262594",
     "status": "completed"
    },
    "tags": []
   },
   "outputs": [
    {
     "data": {
      "text/plain": [
       "array([[9.9994862e-01],\n",
       "       [9.2183480e-05],\n",
       "       [5.9860518e-05],\n",
       "       ...,\n",
       "       [9.9992704e-01],\n",
       "       [9.9816185e-01],\n",
       "       [5.7944602e-05]], dtype=float32)"
      ]
     },
     "execution_count": 11,
     "metadata": {},
     "output_type": "execute_result"
    }
   ],
   "source": [
    "pred_"
   ]
  },
  {
   "cell_type": "code",
   "execution_count": 12,
   "metadata": {
    "execution": {
     "iopub.execute_input": "2021-05-21T12:31:25.383262Z",
     "iopub.status.busy": "2021-05-21T12:31:25.382351Z",
     "iopub.status.idle": "2021-05-21T12:31:25.387141Z",
     "shell.execute_reply": "2021-05-21T12:31:25.386219Z",
     "shell.execute_reply.started": "2021-05-21T09:25:28.917999Z"
    },
    "papermill": {
     "duration": 1.92336,
     "end_time": "2021-05-21T12:31:25.387281",
     "exception": false,
     "start_time": "2021-05-21T12:31:23.463921",
     "status": "completed"
    },
    "tags": []
   },
   "outputs": [],
   "source": [
    "with open(\"prediction.txt\", \"w\") as output:\n",
    "    output.write(str(pred_thrs))"
   ]
  },
  {
   "cell_type": "code",
   "execution_count": 13,
   "metadata": {
    "execution": {
     "iopub.execute_input": "2021-05-21T12:31:29.253549Z",
     "iopub.status.busy": "2021-05-21T12:31:29.252356Z",
     "iopub.status.idle": "2021-05-21T12:31:32.819385Z",
     "shell.execute_reply": "2021-05-21T12:31:32.820299Z",
     "shell.execute_reply.started": "2021-05-21T09:32:44.481875Z"
    },
    "papermill": {
     "duration": 5.524706,
     "end_time": "2021-05-21T12:31:32.820491",
     "exception": false,
     "start_time": "2021-05-21T12:31:27.295785",
     "status": "completed"
    },
    "tags": []
   },
   "outputs": [
    {
     "data": {
      "text/plain": [
       "array([[9.218348e-05]], dtype=float32)"
      ]
     },
     "execution_count": 13,
     "metadata": {},
     "output_type": "execute_result"
    }
   ],
   "source": [
    "test_sents1=['obama says voting barriers are directly linked to jim crow and slavery']\n",
    "test_sents1_ids=encoder(test_sents1)\n",
    "pred_=model.predict(test_sents1_ids)\n",
    "pred_"
   ]
  },
  {
   "cell_type": "code",
   "execution_count": 14,
   "metadata": {
    "execution": {
     "iopub.execute_input": "2021-05-21T12:31:37.301211Z",
     "iopub.status.busy": "2021-05-21T12:31:37.290921Z",
     "iopub.status.idle": "2021-05-21T12:31:40.273610Z",
     "shell.execute_reply": "2021-05-21T12:31:40.275057Z",
     "shell.execute_reply.started": "2021-05-21T11:59:51.981091Z"
    },
    "papermill": {
     "duration": 4.937582,
     "end_time": "2021-05-21T12:31:40.275382",
     "exception": false,
     "start_time": "2021-05-21T12:31:35.337800",
     "status": "completed"
    },
    "tags": []
   },
   "outputs": [],
   "source": [
    "import pickle\n",
    "\n",
    "#pickle.dump(model, open('bert_sarcasm_classifier.pkl', 'wb'))\n",
    "model.save_weights('bert_sarcasm_classifier')"
   ]
  },
  {
   "cell_type": "code",
   "execution_count": null,
   "metadata": {
    "papermill": {
     "duration": 2.22915,
     "end_time": "2021-05-21T12:31:44.597749",
     "exception": false,
     "start_time": "2021-05-21T12:31:42.368599",
     "status": "completed"
    },
    "tags": []
   },
   "outputs": [],
   "source": []
  },
  {
   "cell_type": "code",
   "execution_count": 15,
   "metadata": {
    "execution": {
     "iopub.execute_input": "2021-05-21T12:31:49.127322Z",
     "iopub.status.busy": "2021-05-21T12:31:49.125088Z",
     "iopub.status.idle": "2021-05-21T12:31:49.128913Z",
     "shell.execute_reply": "2021-05-21T12:31:49.129436Z"
    },
    "papermill": {
     "duration": 1.995827,
     "end_time": "2021-05-21T12:31:49.129574",
     "exception": false,
     "start_time": "2021-05-21T12:31:47.133747",
     "status": "completed"
    },
    "tags": []
   },
   "outputs": [],
   "source": [
    "with open(\"test_sents.txt\", \"w\") as output:\n",
    "    output.write(str(test_sents.tolist()))"
   ]
  }
 ],
 "metadata": {
  "kernelspec": {
   "display_name": "Python 3",
   "language": "python",
   "name": "python3"
  },
  "language_info": {
   "codemirror_mode": {
    "name": "ipython",
    "version": 3
   },
   "file_extension": ".py",
   "mimetype": "text/x-python",
   "name": "python",
   "nbconvert_exporter": "python",
   "pygments_lexer": "ipython3",
   "version": "3.7.6"
  },
  "papermill": {
   "duration": 1019.856586,
   "end_time": "2021-05-21T12:31:52.342528",
   "environment_variables": {},
   "exception": null,
   "input_path": "__notebook__.ipynb",
   "output_path": "__notebook__.ipynb",
   "parameters": {},
   "start_time": "2021-05-21T12:14:52.485942",
   "version": "2.1.0"
  },
  "widgets": {
   "application/vnd.jupyter.widget-state+json": {
    "state": {
     "010df359f61f465589aa6f5bf2d8bfc5": {
      "model_module": "@jupyter-widgets/base",
      "model_module_version": "1.2.0",
      "model_name": "LayoutModel",
      "state": {
       "_model_module": "@jupyter-widgets/base",
       "_model_module_version": "1.2.0",
       "_model_name": "LayoutModel",
       "_view_count": null,
       "_view_module": "@jupyter-widgets/base",
       "_view_module_version": "1.2.0",
       "_view_name": "LayoutView",
       "align_content": null,
       "align_items": null,
       "align_self": null,
       "border": null,
       "bottom": null,
       "display": null,
       "flex": null,
       "flex_flow": null,
       "grid_area": null,
       "grid_auto_columns": null,
       "grid_auto_flow": null,
       "grid_auto_rows": null,
       "grid_column": null,
       "grid_gap": null,
       "grid_row": null,
       "grid_template_areas": null,
       "grid_template_columns": null,
       "grid_template_rows": null,
       "height": null,
       "justify_content": null,
       "justify_items": null,
       "left": null,
       "margin": null,
       "max_height": null,
       "max_width": null,
       "min_height": null,
       "min_width": null,
       "object_fit": null,
       "object_position": null,
       "order": null,
       "overflow": null,
       "overflow_x": null,
       "overflow_y": null,
       "padding": null,
       "right": null,
       "top": null,
       "visibility": null,
       "width": null
      }
     },
     "0716c58be22d4dd1ad4b542026700c43": {
      "model_module": "@jupyter-widgets/base",
      "model_module_version": "1.2.0",
      "model_name": "LayoutModel",
      "state": {
       "_model_module": "@jupyter-widgets/base",
       "_model_module_version": "1.2.0",
       "_model_name": "LayoutModel",
       "_view_count": null,
       "_view_module": "@jupyter-widgets/base",
       "_view_module_version": "1.2.0",
       "_view_name": "LayoutView",
       "align_content": null,
       "align_items": null,
       "align_self": null,
       "border": null,
       "bottom": null,
       "display": null,
       "flex": null,
       "flex_flow": null,
       "grid_area": null,
       "grid_auto_columns": null,
       "grid_auto_flow": null,
       "grid_auto_rows": null,
       "grid_column": null,
       "grid_gap": null,
       "grid_row": null,
       "grid_template_areas": null,
       "grid_template_columns": null,
       "grid_template_rows": null,
       "height": null,
       "justify_content": null,
       "justify_items": null,
       "left": null,
       "margin": null,
       "max_height": null,
       "max_width": null,
       "min_height": null,
       "min_width": null,
       "object_fit": null,
       "object_position": null,
       "order": null,
       "overflow": null,
       "overflow_x": null,
       "overflow_y": null,
       "padding": null,
       "right": null,
       "top": null,
       "visibility": null,
       "width": null
      }
     },
     "0aec253a5355440784916458f4905097": {
      "model_module": "@jupyter-widgets/base",
      "model_module_version": "1.2.0",
      "model_name": "LayoutModel",
      "state": {
       "_model_module": "@jupyter-widgets/base",
       "_model_module_version": "1.2.0",
       "_model_name": "LayoutModel",
       "_view_count": null,
       "_view_module": "@jupyter-widgets/base",
       "_view_module_version": "1.2.0",
       "_view_name": "LayoutView",
       "align_content": null,
       "align_items": null,
       "align_self": null,
       "border": null,
       "bottom": null,
       "display": null,
       "flex": null,
       "flex_flow": null,
       "grid_area": null,
       "grid_auto_columns": null,
       "grid_auto_flow": null,
       "grid_auto_rows": null,
       "grid_column": null,
       "grid_gap": null,
       "grid_row": null,
       "grid_template_areas": null,
       "grid_template_columns": null,
       "grid_template_rows": null,
       "height": null,
       "justify_content": null,
       "justify_items": null,
       "left": null,
       "margin": null,
       "max_height": null,
       "max_width": null,
       "min_height": null,
       "min_width": null,
       "object_fit": null,
       "object_position": null,
       "order": null,
       "overflow": null,
       "overflow_x": null,
       "overflow_y": null,
       "padding": null,
       "right": null,
       "top": null,
       "visibility": null,
       "width": null
      }
     },
     "0c3d295ff1a844239a020bc1b9f706a0": {
      "model_module": "@jupyter-widgets/controls",
      "model_module_version": "1.5.0",
      "model_name": "HTMLModel",
      "state": {
       "_dom_classes": [],
       "_model_module": "@jupyter-widgets/controls",
       "_model_module_version": "1.5.0",
       "_model_name": "HTMLModel",
       "_view_count": null,
       "_view_module": "@jupyter-widgets/controls",
       "_view_module_version": "1.5.0",
       "_view_name": "HTMLView",
       "description": "",
       "description_tooltip": null,
       "layout": "IPY_MODEL_aa2960fba83c4e509413ebadd0f30a07",
       "placeholder": "​",
       "style": "IPY_MODEL_ac28e60264604c30bd1f99b527802dda",
       "value": " 433/433 [00:00&lt;00:00, 516B/s]"
      }
     },
     "120300f69bc2444392b294082ca80bfe": {
      "model_module": "@jupyter-widgets/base",
      "model_module_version": "1.2.0",
      "model_name": "LayoutModel",
      "state": {
       "_model_module": "@jupyter-widgets/base",
       "_model_module_version": "1.2.0",
       "_model_name": "LayoutModel",
       "_view_count": null,
       "_view_module": "@jupyter-widgets/base",
       "_view_module_version": "1.2.0",
       "_view_name": "LayoutView",
       "align_content": null,
       "align_items": null,
       "align_self": null,
       "border": null,
       "bottom": null,
       "display": null,
       "flex": null,
       "flex_flow": null,
       "grid_area": null,
       "grid_auto_columns": null,
       "grid_auto_flow": null,
       "grid_auto_rows": null,
       "grid_column": null,
       "grid_gap": null,
       "grid_row": null,
       "grid_template_areas": null,
       "grid_template_columns": null,
       "grid_template_rows": null,
       "height": null,
       "justify_content": null,
       "justify_items": null,
       "left": null,
       "margin": null,
       "max_height": null,
       "max_width": null,
       "min_height": null,
       "min_width": null,
       "object_fit": null,
       "object_position": null,
       "order": null,
       "overflow": null,
       "overflow_x": null,
       "overflow_y": null,
       "padding": null,
       "right": null,
       "top": null,
       "visibility": null,
       "width": null
      }
     },
     "12ae7ce9aa9346bf9b37daa114e8a3fc": {
      "model_module": "@jupyter-widgets/controls",
      "model_module_version": "1.5.0",
      "model_name": "FloatProgressModel",
      "state": {
       "_dom_classes": [],
       "_model_module": "@jupyter-widgets/controls",
       "_model_module_version": "1.5.0",
       "_model_name": "FloatProgressModel",
       "_view_count": null,
       "_view_module": "@jupyter-widgets/controls",
       "_view_module_version": "1.5.0",
       "_view_name": "ProgressView",
       "bar_style": "success",
       "description": "Downloading: 100%",
       "description_tooltip": null,
       "layout": "IPY_MODEL_e7e5ce45889e404995ceae8e1278b7d6",
       "max": 536063208.0,
       "min": 0.0,
       "orientation": "horizontal",
       "style": "IPY_MODEL_5b6f5786c8b8416c898de747e498f27f",
       "value": 536063208.0
      }
     },
     "33424ba546f24ba0b729bbc736115d94": {
      "model_module": "@jupyter-widgets/controls",
      "model_module_version": "1.5.0",
      "model_name": "ProgressStyleModel",
      "state": {
       "_model_module": "@jupyter-widgets/controls",
       "_model_module_version": "1.5.0",
       "_model_name": "ProgressStyleModel",
       "_view_count": null,
       "_view_module": "@jupyter-widgets/base",
       "_view_module_version": "1.2.0",
       "_view_name": "StyleView",
       "bar_color": null,
       "description_width": "initial"
      }
     },
     "3edf8b8c362e4c55a4ac040548f50036": {
      "model_module": "@jupyter-widgets/controls",
      "model_module_version": "1.5.0",
      "model_name": "HBoxModel",
      "state": {
       "_dom_classes": [],
       "_model_module": "@jupyter-widgets/controls",
       "_model_module_version": "1.5.0",
       "_model_name": "HBoxModel",
       "_view_count": null,
       "_view_module": "@jupyter-widgets/controls",
       "_view_module_version": "1.5.0",
       "_view_name": "HBoxView",
       "box_style": "",
       "children": [
        "IPY_MODEL_76177b0248b747dfbec2b60edd5499fe",
        "IPY_MODEL_644111686ce04c979ceba7269b513016"
       ],
       "layout": "IPY_MODEL_6df49a211a3248f0bd151ceded2fee18"
      }
     },
     "5b6f5786c8b8416c898de747e498f27f": {
      "model_module": "@jupyter-widgets/controls",
      "model_module_version": "1.5.0",
      "model_name": "ProgressStyleModel",
      "state": {
       "_model_module": "@jupyter-widgets/controls",
       "_model_module_version": "1.5.0",
       "_model_name": "ProgressStyleModel",
       "_view_count": null,
       "_view_module": "@jupyter-widgets/base",
       "_view_module_version": "1.2.0",
       "_view_name": "StyleView",
       "bar_color": null,
       "description_width": "initial"
      }
     },
     "644111686ce04c979ceba7269b513016": {
      "model_module": "@jupyter-widgets/controls",
      "model_module_version": "1.5.0",
      "model_name": "HTMLModel",
      "state": {
       "_dom_classes": [],
       "_model_module": "@jupyter-widgets/controls",
       "_model_module_version": "1.5.0",
       "_model_name": "HTMLModel",
       "_view_count": null,
       "_view_module": "@jupyter-widgets/controls",
       "_view_module_version": "1.5.0",
       "_view_name": "HTMLView",
       "description": "",
       "description_tooltip": null,
       "layout": "IPY_MODEL_0716c58be22d4dd1ad4b542026700c43",
       "placeholder": "​",
       "style": "IPY_MODEL_b21b05c7b92a4053af06aeec1afa1d03",
       "value": " 232k/232k [00:00&lt;00:00, 640kB/s]"
      }
     },
     "65cbb87237bf4e48a037b5f5263ad4e2": {
      "model_module": "@jupyter-widgets/controls",
      "model_module_version": "1.5.0",
      "model_name": "DescriptionStyleModel",
      "state": {
       "_model_module": "@jupyter-widgets/controls",
       "_model_module_version": "1.5.0",
       "_model_name": "DescriptionStyleModel",
       "_view_count": null,
       "_view_module": "@jupyter-widgets/base",
       "_view_module_version": "1.2.0",
       "_view_name": "StyleView",
       "description_width": ""
      }
     },
     "6df49a211a3248f0bd151ceded2fee18": {
      "model_module": "@jupyter-widgets/base",
      "model_module_version": "1.2.0",
      "model_name": "LayoutModel",
      "state": {
       "_model_module": "@jupyter-widgets/base",
       "_model_module_version": "1.2.0",
       "_model_name": "LayoutModel",
       "_view_count": null,
       "_view_module": "@jupyter-widgets/base",
       "_view_module_version": "1.2.0",
       "_view_name": "LayoutView",
       "align_content": null,
       "align_items": null,
       "align_self": null,
       "border": null,
       "bottom": null,
       "display": null,
       "flex": null,
       "flex_flow": null,
       "grid_area": null,
       "grid_auto_columns": null,
       "grid_auto_flow": null,
       "grid_auto_rows": null,
       "grid_column": null,
       "grid_gap": null,
       "grid_row": null,
       "grid_template_areas": null,
       "grid_template_columns": null,
       "grid_template_rows": null,
       "height": null,
       "justify_content": null,
       "justify_items": null,
       "left": null,
       "margin": null,
       "max_height": null,
       "max_width": null,
       "min_height": null,
       "min_width": null,
       "object_fit": null,
       "object_position": null,
       "order": null,
       "overflow": null,
       "overflow_x": null,
       "overflow_y": null,
       "padding": null,
       "right": null,
       "top": null,
       "visibility": null,
       "width": null
      }
     },
     "76177b0248b747dfbec2b60edd5499fe": {
      "model_module": "@jupyter-widgets/controls",
      "model_module_version": "1.5.0",
      "model_name": "FloatProgressModel",
      "state": {
       "_dom_classes": [],
       "_model_module": "@jupyter-widgets/controls",
       "_model_module_version": "1.5.0",
       "_model_name": "FloatProgressModel",
       "_view_count": null,
       "_view_module": "@jupyter-widgets/controls",
       "_view_module_version": "1.5.0",
       "_view_name": "ProgressView",
       "bar_style": "success",
       "description": "Downloading: 100%",
       "description_tooltip": null,
       "layout": "IPY_MODEL_92af3bc8ad844c1ba0480620ddbebf3b",
       "max": 231508.0,
       "min": 0.0,
       "orientation": "horizontal",
       "style": "IPY_MODEL_b56aae48f07a44db89e17541cff7cdae",
       "value": 231508.0
      }
     },
     "92af3bc8ad844c1ba0480620ddbebf3b": {
      "model_module": "@jupyter-widgets/base",
      "model_module_version": "1.2.0",
      "model_name": "LayoutModel",
      "state": {
       "_model_module": "@jupyter-widgets/base",
       "_model_module_version": "1.2.0",
       "_model_name": "LayoutModel",
       "_view_count": null,
       "_view_module": "@jupyter-widgets/base",
       "_view_module_version": "1.2.0",
       "_view_name": "LayoutView",
       "align_content": null,
       "align_items": null,
       "align_self": null,
       "border": null,
       "bottom": null,
       "display": null,
       "flex": null,
       "flex_flow": null,
       "grid_area": null,
       "grid_auto_columns": null,
       "grid_auto_flow": null,
       "grid_auto_rows": null,
       "grid_column": null,
       "grid_gap": null,
       "grid_row": null,
       "grid_template_areas": null,
       "grid_template_columns": null,
       "grid_template_rows": null,
       "height": null,
       "justify_content": null,
       "justify_items": null,
       "left": null,
       "margin": null,
       "max_height": null,
       "max_width": null,
       "min_height": null,
       "min_width": null,
       "object_fit": null,
       "object_position": null,
       "order": null,
       "overflow": null,
       "overflow_x": null,
       "overflow_y": null,
       "padding": null,
       "right": null,
       "top": null,
       "visibility": null,
       "width": null
      }
     },
     "a03ad5e1edc04b5eb613f3f3cf3e3535": {
      "model_module": "@jupyter-widgets/controls",
      "model_module_version": "1.5.0",
      "model_name": "FloatProgressModel",
      "state": {
       "_dom_classes": [],
       "_model_module": "@jupyter-widgets/controls",
       "_model_module_version": "1.5.0",
       "_model_name": "FloatProgressModel",
       "_view_count": null,
       "_view_module": "@jupyter-widgets/controls",
       "_view_module_version": "1.5.0",
       "_view_name": "ProgressView",
       "bar_style": "success",
       "description": "Downloading: 100%",
       "description_tooltip": null,
       "layout": "IPY_MODEL_120300f69bc2444392b294082ca80bfe",
       "max": 433.0,
       "min": 0.0,
       "orientation": "horizontal",
       "style": "IPY_MODEL_33424ba546f24ba0b729bbc736115d94",
       "value": 433.0
      }
     },
     "a6591920b7ca4d0388f239e533840e3f": {
      "model_module": "@jupyter-widgets/controls",
      "model_module_version": "1.5.0",
      "model_name": "HTMLModel",
      "state": {
       "_dom_classes": [],
       "_model_module": "@jupyter-widgets/controls",
       "_model_module_version": "1.5.0",
       "_model_name": "HTMLModel",
       "_view_count": null,
       "_view_module": "@jupyter-widgets/controls",
       "_view_module_version": "1.5.0",
       "_view_name": "HTMLView",
       "description": "",
       "description_tooltip": null,
       "layout": "IPY_MODEL_0aec253a5355440784916458f4905097",
       "placeholder": "​",
       "style": "IPY_MODEL_65cbb87237bf4e48a037b5f5263ad4e2",
       "value": " 536M/536M [00:20&lt;00:00, 26.0MB/s]"
      }
     },
     "aa2960fba83c4e509413ebadd0f30a07": {
      "model_module": "@jupyter-widgets/base",
      "model_module_version": "1.2.0",
      "model_name": "LayoutModel",
      "state": {
       "_model_module": "@jupyter-widgets/base",
       "_model_module_version": "1.2.0",
       "_model_name": "LayoutModel",
       "_view_count": null,
       "_view_module": "@jupyter-widgets/base",
       "_view_module_version": "1.2.0",
       "_view_name": "LayoutView",
       "align_content": null,
       "align_items": null,
       "align_self": null,
       "border": null,
       "bottom": null,
       "display": null,
       "flex": null,
       "flex_flow": null,
       "grid_area": null,
       "grid_auto_columns": null,
       "grid_auto_flow": null,
       "grid_auto_rows": null,
       "grid_column": null,
       "grid_gap": null,
       "grid_row": null,
       "grid_template_areas": null,
       "grid_template_columns": null,
       "grid_template_rows": null,
       "height": null,
       "justify_content": null,
       "justify_items": null,
       "left": null,
       "margin": null,
       "max_height": null,
       "max_width": null,
       "min_height": null,
       "min_width": null,
       "object_fit": null,
       "object_position": null,
       "order": null,
       "overflow": null,
       "overflow_x": null,
       "overflow_y": null,
       "padding": null,
       "right": null,
       "top": null,
       "visibility": null,
       "width": null
      }
     },
     "ac28e60264604c30bd1f99b527802dda": {
      "model_module": "@jupyter-widgets/controls",
      "model_module_version": "1.5.0",
      "model_name": "DescriptionStyleModel",
      "state": {
       "_model_module": "@jupyter-widgets/controls",
       "_model_module_version": "1.5.0",
       "_model_name": "DescriptionStyleModel",
       "_view_count": null,
       "_view_module": "@jupyter-widgets/base",
       "_view_module_version": "1.2.0",
       "_view_name": "StyleView",
       "description_width": ""
      }
     },
     "b21b05c7b92a4053af06aeec1afa1d03": {
      "model_module": "@jupyter-widgets/controls",
      "model_module_version": "1.5.0",
      "model_name": "DescriptionStyleModel",
      "state": {
       "_model_module": "@jupyter-widgets/controls",
       "_model_module_version": "1.5.0",
       "_model_name": "DescriptionStyleModel",
       "_view_count": null,
       "_view_module": "@jupyter-widgets/base",
       "_view_module_version": "1.2.0",
       "_view_name": "StyleView",
       "description_width": ""
      }
     },
     "b56aae48f07a44db89e17541cff7cdae": {
      "model_module": "@jupyter-widgets/controls",
      "model_module_version": "1.5.0",
      "model_name": "ProgressStyleModel",
      "state": {
       "_model_module": "@jupyter-widgets/controls",
       "_model_module_version": "1.5.0",
       "_model_name": "ProgressStyleModel",
       "_view_count": null,
       "_view_module": "@jupyter-widgets/base",
       "_view_module_version": "1.2.0",
       "_view_name": "StyleView",
       "bar_color": null,
       "description_width": "initial"
      }
     },
     "cea1bb8589fc4a5088e1a93db7d0686a": {
      "model_module": "@jupyter-widgets/base",
      "model_module_version": "1.2.0",
      "model_name": "LayoutModel",
      "state": {
       "_model_module": "@jupyter-widgets/base",
       "_model_module_version": "1.2.0",
       "_model_name": "LayoutModel",
       "_view_count": null,
       "_view_module": "@jupyter-widgets/base",
       "_view_module_version": "1.2.0",
       "_view_name": "LayoutView",
       "align_content": null,
       "align_items": null,
       "align_self": null,
       "border": null,
       "bottom": null,
       "display": null,
       "flex": null,
       "flex_flow": null,
       "grid_area": null,
       "grid_auto_columns": null,
       "grid_auto_flow": null,
       "grid_auto_rows": null,
       "grid_column": null,
       "grid_gap": null,
       "grid_row": null,
       "grid_template_areas": null,
       "grid_template_columns": null,
       "grid_template_rows": null,
       "height": null,
       "justify_content": null,
       "justify_items": null,
       "left": null,
       "margin": null,
       "max_height": null,
       "max_width": null,
       "min_height": null,
       "min_width": null,
       "object_fit": null,
       "object_position": null,
       "order": null,
       "overflow": null,
       "overflow_x": null,
       "overflow_y": null,
       "padding": null,
       "right": null,
       "top": null,
       "visibility": null,
       "width": null
      }
     },
     "d482eeb389664831b563f1800ceffe39": {
      "model_module": "@jupyter-widgets/controls",
      "model_module_version": "1.5.0",
      "model_name": "HBoxModel",
      "state": {
       "_dom_classes": [],
       "_model_module": "@jupyter-widgets/controls",
       "_model_module_version": "1.5.0",
       "_model_name": "HBoxModel",
       "_view_count": null,
       "_view_module": "@jupyter-widgets/controls",
       "_view_module_version": "1.5.0",
       "_view_name": "HBoxView",
       "box_style": "",
       "children": [
        "IPY_MODEL_a03ad5e1edc04b5eb613f3f3cf3e3535",
        "IPY_MODEL_0c3d295ff1a844239a020bc1b9f706a0"
       ],
       "layout": "IPY_MODEL_cea1bb8589fc4a5088e1a93db7d0686a"
      }
     },
     "e7e5ce45889e404995ceae8e1278b7d6": {
      "model_module": "@jupyter-widgets/base",
      "model_module_version": "1.2.0",
      "model_name": "LayoutModel",
      "state": {
       "_model_module": "@jupyter-widgets/base",
       "_model_module_version": "1.2.0",
       "_model_name": "LayoutModel",
       "_view_count": null,
       "_view_module": "@jupyter-widgets/base",
       "_view_module_version": "1.2.0",
       "_view_name": "LayoutView",
       "align_content": null,
       "align_items": null,
       "align_self": null,
       "border": null,
       "bottom": null,
       "display": null,
       "flex": null,
       "flex_flow": null,
       "grid_area": null,
       "grid_auto_columns": null,
       "grid_auto_flow": null,
       "grid_auto_rows": null,
       "grid_column": null,
       "grid_gap": null,
       "grid_row": null,
       "grid_template_areas": null,
       "grid_template_columns": null,
       "grid_template_rows": null,
       "height": null,
       "justify_content": null,
       "justify_items": null,
       "left": null,
       "margin": null,
       "max_height": null,
       "max_width": null,
       "min_height": null,
       "min_width": null,
       "object_fit": null,
       "object_position": null,
       "order": null,
       "overflow": null,
       "overflow_x": null,
       "overflow_y": null,
       "padding": null,
       "right": null,
       "top": null,
       "visibility": null,
       "width": null
      }
     },
     "f36bf8f6505344dc98e1b22211b63083": {
      "model_module": "@jupyter-widgets/controls",
      "model_module_version": "1.5.0",
      "model_name": "HBoxModel",
      "state": {
       "_dom_classes": [],
       "_model_module": "@jupyter-widgets/controls",
       "_model_module_version": "1.5.0",
       "_model_name": "HBoxModel",
       "_view_count": null,
       "_view_module": "@jupyter-widgets/controls",
       "_view_module_version": "1.5.0",
       "_view_name": "HBoxView",
       "box_style": "",
       "children": [
        "IPY_MODEL_12ae7ce9aa9346bf9b37daa114e8a3fc",
        "IPY_MODEL_a6591920b7ca4d0388f239e533840e3f"
       ],
       "layout": "IPY_MODEL_010df359f61f465589aa6f5bf2d8bfc5"
      }
     }
    },
    "version_major": 2,
    "version_minor": 0
   }
  }
 },
 "nbformat": 4,
 "nbformat_minor": 4
}
